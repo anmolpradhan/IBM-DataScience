{
 "cells": [
  {
   "cell_type": "markdown",
   "id": "3c0bfd03-0473-4b74-9c2c-60757499728c",
   "metadata": {},
   "source": [
    "# Data Science Tools and Ecosystem"
   ]
  },
  {
   "cell_type": "markdown",
   "id": "317b282b-baf2-4cd4-8d53-f41d5f8d67ee",
   "metadata": {},
   "source": [
    "In this notebook, Data Science Tools andEcosystem are Summarized"
   ]
  },
  {
   "cell_type": "markdown",
   "id": "ac61ddf5-6568-4d43-b8e8-d73cc6a0234d",
   "metadata": {},
   "source": [
    "**Objectives:**\n",
    "* List popular languages for data Science.\n",
    "* List popular libraries used by data Scientist.\n",
    "* Some of examples of evaluating artihematic expressions"
   ]
  },
  {
   "cell_type": "markdown",
   "id": "b04caded-ee29-4702-957f-72bdf5bc9e0a",
   "metadata": {},
   "source": [
    "Some of the popular languages Data Scientists use are:\n",
    "1. Python\n",
    "2. R\n",
    "3. Julia"
   ]
  },
  {
   "cell_type": "markdown",
   "id": "9bcda2ab-e0e5-4ff2-aa06-0053b1fb9b29",
   "metadata": {},
   "source": [
    "Some of the most commonly used libraries used by Data  Scientists include:\n",
    "1. numpy\n",
    "2. pandas\n",
    "3. matplotlib"
   ]
  },
  {
   "cell_type": "markdown",
   "id": "c227085d-587e-4af6-9e75-4a65b8784883",
   "metadata": {},
   "source": [
    "|Data Science Tools|\n",
    "|------------------|\n",
    "|JupterNotebook|\n",
    "|Spyder|\n",
    "|R Studio|\n"
   ]
  },
  {
   "cell_type": "markdown",
   "id": "339aa880-6cf5-4e11-8c0a-dd9523d7da03",
   "metadata": {},
   "source": [
    "### Below are a few examples of evaluating  arithematic expressions in python are:"
   ]
  },
  {
   "cell_type": "code",
   "execution_count": 2,
   "id": "df64af9e-93c0-48dc-988d-a200e038494b",
   "metadata": {},
   "outputs": [
    {
     "data": {
      "text/plain": [
       "17"
      ]
     },
     "execution_count": 2,
     "metadata": {},
     "output_type": "execute_result"
    }
   ],
   "source": [
    "(3*4)+5 #this a simple arithemetic expression to multiply then add integers"
   ]
  },
  {
   "cell_type": "code",
   "execution_count": 3,
   "id": "544b3c93-fa04-4e64-a871-5d8701109a06",
   "metadata": {},
   "outputs": [
    {
     "data": {
      "text/plain": [
       "3.3333333333333335"
      ]
     },
     "execution_count": 3,
     "metadata": {},
     "output_type": "execute_result"
    }
   ],
   "source": [
    "200/60 #This will convert 200 minutes to hours by dividing by 60"
   ]
  },
  {
   "cell_type": "markdown",
   "id": "77477c1d-67c9-4ce8-abce-7d03933cf8aa",
   "metadata": {},
   "source": [
    "## Author\n",
    "Anmol Pradhan"
   ]
  },
  {
   "cell_type": "code",
   "execution_count": null,
   "id": "3628c078-b392-495f-95ef-e6d7040e8bda",
   "metadata": {},
   "outputs": [],
   "source": []
  }
 ],
 "metadata": {
  "kernelspec": {
   "display_name": "Python 3 (ipykernel)",
   "language": "python",
   "name": "python3"
  },
  "language_info": {
   "codemirror_mode": {
    "name": "ipython",
    "version": 3
   },
   "file_extension": ".py",
   "mimetype": "text/x-python",
   "name": "python",
   "nbconvert_exporter": "python",
   "pygments_lexer": "ipython3",
   "version": "3.11.7"
  }
 },
 "nbformat": 4,
 "nbformat_minor": 5
}
